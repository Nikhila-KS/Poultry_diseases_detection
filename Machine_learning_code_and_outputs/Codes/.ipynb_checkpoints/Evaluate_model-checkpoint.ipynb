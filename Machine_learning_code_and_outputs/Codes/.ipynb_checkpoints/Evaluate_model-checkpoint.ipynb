{
 "cells": [
  {
   "cell_type": "code",
   "execution_count": null,
   "id": "66fdee4c-fd3d-45d8-825a-2f3a437d8da1",
   "metadata": {},
   "outputs": [],
   "source": [
    "# Import library\n",
    "import matplotlib.pyplot as plt\n",
    "import numpy as np\n",
    "import pandas as pd\n",
    "from IPython.display import Image\n",
    "from tqdm import tqdm\n",
    "\n",
    "# Open file\n",
    "import os\n",
    "import PIL\n",
    "import cv2\n",
    "from os import listdir\n",
    "from random import shuffle\n",
    "\n",
    "# Model CNN (Deep learning network)\n",
    "import tensorflow as tf\n",
    "from tensorflow import keras\n",
    "from tensorflow.keras import layers\n",
    "from tensorflow.keras.models import Sequential\n",
    "from tensorflow.keras.layers import Conv2D, MaxPooling2D, Dense,\\\n",
    "GlobalAveragePooling2D, Dropout, Flatten\n",
    "from tensorflow.keras.optimizers import Adam\n",
    "from tensorflow.keras.preprocessing.image import ImageDataGenerator\n",
    "\n",
    "# Confusion matrix\n",
    "from sklearn.metrics import confusion_matrix, ConfusionMatrixDisplay, accuracy_score, classification_report,f1_score"
   ]
  },
  {
   "cell_type": "code",
   "execution_count": 2,
   "id": "ba751a29-f032-46c9-be58-386012b05b3d",
   "metadata": {},
   "outputs": [],
   "source": [
    "def create_label(word_label):\n",
    "    ''' \n",
    "        Input : subdirectories path have nane file with class label \n",
    "        Return : number of classes label of each class \n",
    "    '''\n",
    "    if word_label == \"Coccidiosis\":\n",
    "        return 0\n",
    "    elif word_label == \"Healthy poultry\":\n",
    "        return 1\n",
    "    elif word_label == \"Newcastle diseases\":\n",
    "        return 2\n",
    "    elif word_label == \"Salmonella\":\n",
    "        return 3"
   ]
  },
  {
   "cell_type": "code",
   "execution_count": 3,
   "id": "8461f0f0-fddf-490d-83ba-867af0ad7af6",
   "metadata": {},
   "outputs": [],
   "source": [
    "def created_dataset(DIR):\n",
    "    '''\n",
    "        Input : directories file have image file to want label   \n",
    "        Return : dataframe of arrary image (RGB-3D shape) follow by img_height and img_width and label of each classes image \n",
    "    '''\n",
    "    created_dataset = []\n",
    "    for labels_c in tqdm(os.listdir(DIR)):\n",
    "        path = os.path.join(DIR, labels_c)\n",
    "        for file in listdir(path):\n",
    "            img_data = cv2.imread(path+ \"/\" + file) \n",
    "            img_data = cv2.resize(img_data, (img_height , img_width))\n",
    "            img_data = cv2.cvtColor(img_data, cv2.COLOR_RGB2BGR)\n",
    "            created_dataset.append([np.array(img_data), create_label(labels_c)])\n",
    "    shuffle(created_dataset)\n",
    "    return pd.DataFrame(created_dataset, columns=[\"picture\",\"labels\"])"
   ]
  },
  {
   "cell_type": "code",
   "execution_count": 4,
   "id": "1a30b7ef-e38c-4a9d-89dc-238ea98c66e5",
   "metadata": {},
   "outputs": [],
   "source": [
    "def load_model(model_path):\n",
    "    '''\n",
    "        Input : subdirectories of model \n",
    "        Return : model of keras api with not complie \n",
    "    '''\n",
    "    model = tf.keras.models.load_model(model_path, compile = False)\n",
    "    return model"
   ]
  },
  {
   "cell_type": "code",
   "execution_count": 5,
   "id": "b02b7aaa-c9d4-4485-a124-9914923f28aa",
   "metadata": {},
   "outputs": [],
   "source": [
    "# Create function plot graph\n",
    "def plot_graph(history_model, finetune=False, initial_epochs=0):\n",
    "    ''' \n",
    "        Input : Model_values of keras.callbacks.History\n",
    "        Return : Graph of Loss funtion and Mean squared error between training dataset and testing dataset\n",
    "    '''\n",
    "    # Subplots\n",
    "    fig, ax = plt.subplots(1, 2, figsize=(14,5))\n",
    "    \n",
    "    # Plot loss\n",
    "    plt.subplot(1, 2, 1)\n",
    "    plt.plot(history_model['loss'], label='Training Loss');\n",
    "    plt.plot(history_model['val_loss'], label='Testing Loss');\n",
    "    if finetune==True:\n",
    "        plt.plot([initial_epochs-1,initial_epochs-1], plt.ylim(), label='Start Fine Tuning')\n",
    "    plt.legend(fontsize=12, loc='upper right')\n",
    "    plt.title('Training and Validation Loss')\n",
    "    plt.xlabel('Epochs')\n",
    "    plt.ylabel('Loss');\n",
    "    \n",
    "    # Plot accuracy\n",
    "    plt.subplot(1, 2, 2)\n",
    "    plt.plot(history_model['accuracy'], label='Training Accuracy')\n",
    "    plt.plot(history_model['val_accuracy'], label='Validation Accuracy')\n",
    "    if finetune==True:\n",
    "        plt.plot([initial_epochs-1,initial_epochs-1], plt.ylim(), label='Start Fine Tuning')\n",
    "    plt.legend(fontsize=12, loc='lower right')\n",
    "    plt.title('Training and Validation Accuracy')\n",
    "    plt.xlabel('Epochs')\n",
    "    plt.ylabel('Accuracy');"
   ]
  },
  {
   "cell_type": "code",
   "execution_count": 36,
   "id": "020dcbe2-edac-4fe8-8493-57017b7a0408",
   "metadata": {},
   "outputs": [],
   "source": [
    "def get_metric(model, X, y_actual, name_model=None, figsize=(12, 10)):\n",
    "    '''\n",
    "    Input : model = model of keras api \n",
    "            X = array of image follow by reshape and rescale fit for model input \n",
    "            y_actual = label of each image(X)\n",
    "            name_model = str name of model want to show \n",
    "    Return : ConfusionMatrixDisplay, accuracy_score, and size of the model \n",
    "    '''\n",
    "    prods_softmax = model.predict(X)\n",
    "    y_preds = np.array([np.where(v == v.max())[0][0] for v in prods_softmax])\n",
    "    print(f\"Model : {name_model}\")\n",
    "    print(\"-\" * 50)\n",
    "    labels = ['Coccidiosis', 'Salmonella', 'Newcastle', 'Healthy']\n",
    "    cm = confusion_matrix(y_actual, y_preds)\n",
    "\n",
    "    # Increase the size of the figure\n",
    "    plt.figure(figsize=figsize)\n",
    "\n",
    "    # # Rotate x-axis labels for better readability\n",
    "    # plt.xticks(rotation=45)\n",
    "\n",
    "    # Plot the confusion matrix\n",
    "    ConfusionMatrixDisplay(confusion_matrix=cm, display_labels=labels).plot(cmap=plt.cm.Blues);\n",
    "\n",
    "    print(classification_report(y_actual, y_preds, target_names=labels))\n",
    "    print(f\"Accuracy score: {round(accuracy_score(y_actual, y_preds), 2)}\")\n",
    "    print(f\"F1 score average: {round(f1_score(y_actual, y_preds, average='macro'), 2)}\")\n",
    "\n",
    "\n",
    "# def get_metric(model, X,  y_actual, name_model=None):\n",
    "#     '''\n",
    "#         Input : model = model of keras api \n",
    "#                 X = array of image follow by reshape and rescale fit for model input \n",
    "#                 y_actual = label of each image(X)\n",
    "#                 name_model = str name of model want to show \n",
    "#         Return : ConfusionMatrixDisplay, accuracy_score and size of model \n",
    "#     '''\n",
    "#     prods_softmax = model.predict(X)\n",
    "#     y_preds = np.array([np.where(v == v.max())[0][0] for v in prods_softmax])\n",
    "#     print(f\"Model : {name_model}\")\n",
    "#     print(\"-\"*50)\n",
    "#     labels = ['Coccidiosis', 'Salmonella', 'Newcastle diseases', 'Healthy poultry']\n",
    "#     cm = confusion_matrix(y_actual, y_preds)\n",
    "#     ConfusionMatrixDisplay(confusion_matrix=cm, display_labels=labels).plot(cmap=plt.cm.Blues);\n",
    "#     print(classification_report(y_actual, y_preds, target_names=labels))\n",
    "#     print(f\"Accuracy score: {round(accuracy_score(y_actual, y_preds),2)}\")\n",
    "#     print(f\"F1 score average: {round(f1_score(y_actual, y_preds, average = 'macro'),2)}\")"
   ]
  },
  {
   "cell_type": "code",
   "execution_count": 7,
   "id": "9a59ce25-dfa0-4c3b-a87f-83477c5ce3f4",
   "metadata": {},
   "outputs": [],
   "source": [
    "def get_values_model(X , y_actual, history_model, model, name_model=\"\", model_path=None):\n",
    " \n",
    "    ''' Show the overall metric model\n",
    "        Parameter : X = array of image follow by reshape and rescale fit for model input\n",
    "                    y_actual : label of each image(X)\n",
    "                    history_model : model_values of keras.callbacks.History\n",
    "                    model : model of keras api \n",
    "                    name_model : str name of model want to show\n",
    "                    model_path : subdirectories of model \n",
    "        Return : Add value of model to set of \n",
    "                model_name, loss, val_loss, accuracy, val_accuracy, F1_score, size_mb, number_params, input_size   \n",
    "    '''\n",
    "    \n",
    "    # Predict model \n",
    "    prods_softmax = model.predict(X)\n",
    "    y_preds = np.array([np.where(v == v.max())[0][0] for v in prods_softmax])\n",
    "    \n",
    "    # Add values\n",
    "    model_name.append(name_model)\n",
    "    loss.append(round(history_model.iloc[-1][\"loss\"],2))\n",
    "    val_loss.append(round(history_model.iloc[-1][\"val_loss\"],2))\n",
    "    accuracy.append(round(history_model.iloc[-1][\"accuracy\"],2))\n",
    "    val_accuracy.append(round(history_model.iloc[-1][\"val_accuracy\"],2))\n",
    "    F1_score.append(round(f1_score(y_actual, y_preds, average = 'macro'),2))\n",
    "    size_mb.append(round(os.stat(model_path).st_size/1_048_576 , 2))\n",
    "    number_params.append(f'{model.count_params():,}')\n",
    "    input_size.append(model.input_shape)"
   ]
  },
  {
   "cell_type": "markdown",
   "id": "1bb453fb-e8f8-4bea-8336-da11dbc5ccaa",
   "metadata": {},
   "source": [
    "## 01 Open dataset"
   ]
  },
  {
   "cell_type": "code",
   "execution_count": 8,
   "id": "074392b2-714d-4cfc-9df3-bd37cf6ed056",
   "metadata": {},
   "outputs": [],
   "source": [
    "# Define the paths\n",
    "original_dataset_path = r'C:\\Users\\HP\\Desktop\\Data\\poultry_new\\poultry_data'\n",
    "train_path = r'C:\\Users\\HP\\Desktop\\Data\\poultry_new\\Train'\n",
    "validation_path = r'C:\\Users\\HP\\Desktop\\Data\\poultry_new\\Validate'\n",
    "test_path = r'C:\\Users\\HP\\Desktop\\Data\\poultry_new\\Test'"
   ]
  },
  {
   "cell_type": "markdown",
   "id": "5c83c227-ed20-472f-b567-fa828d0970f5",
   "metadata": {},
   "source": [
    "### Preprocessing image dataset"
   ]
  },
  {
   "cell_type": "code",
   "execution_count": 9,
   "id": "aae3c2f5-4e9a-4c04-86d9-3ec3f9e228e6",
   "metadata": {},
   "outputs": [
    {
     "name": "stderr",
     "output_type": "stream",
     "text": [
      "100%|████████████████████████████████████████████████████████████████████████████████████| 4/4 [05:22<00:00, 80.68s/it]\n",
      "100%|███████████████████████████████████████████████████████████████████████████████████| 4/4 [06:45<00:00, 101.32s/it]\n"
     ]
    }
   ],
   "source": [
    "# Create dataframe of validation and testing dataset \n",
    "# for model CNN and mobileNetV2\n",
    "# Using input image size 128x128\n",
    "img_height=128\n",
    "img_width=128\n",
    "df_valid = created_dataset(DIR=validation_path)\n",
    "df_test = created_dataset(DIR=test_path)"
   ]
  },
  {
   "cell_type": "code",
   "execution_count": 10,
   "id": "514df827-6f14-46a0-97b6-c32117d4ce2b",
   "metadata": {},
   "outputs": [
    {
     "data": {
      "text/html": [
       "<div>\n",
       "<style scoped>\n",
       "    .dataframe tbody tr th:only-of-type {\n",
       "        vertical-align: middle;\n",
       "    }\n",
       "\n",
       "    .dataframe tbody tr th {\n",
       "        vertical-align: top;\n",
       "    }\n",
       "\n",
       "    .dataframe thead th {\n",
       "        text-align: right;\n",
       "    }\n",
       "</style>\n",
       "<table border=\"1\" class=\"dataframe\">\n",
       "  <thead>\n",
       "    <tr style=\"text-align: right;\">\n",
       "      <th></th>\n",
       "      <th>picture</th>\n",
       "      <th>labels</th>\n",
       "    </tr>\n",
       "  </thead>\n",
       "  <tbody>\n",
       "    <tr>\n",
       "      <th>0</th>\n",
       "      <td>[[[147, 152, 156], [142, 145, 150], [152, 153,...</td>\n",
       "      <td>1</td>\n",
       "    </tr>\n",
       "    <tr>\n",
       "      <th>1</th>\n",
       "      <td>[[[114, 72, 30], [103, 65, 30], [96, 55, 27], ...</td>\n",
       "      <td>0</td>\n",
       "    </tr>\n",
       "    <tr>\n",
       "      <th>2</th>\n",
       "      <td>[[[143, 131, 107], [130, 123, 98], [132, 115, ...</td>\n",
       "      <td>3</td>\n",
       "    </tr>\n",
       "    <tr>\n",
       "      <th>3</th>\n",
       "      <td>[[[47, 38, 29], [44, 31, 25], [42, 31, 27], [3...</td>\n",
       "      <td>2</td>\n",
       "    </tr>\n",
       "    <tr>\n",
       "      <th>4</th>\n",
       "      <td>[[[120, 116, 105], [140, 140, 130], [162, 161,...</td>\n",
       "      <td>3</td>\n",
       "    </tr>\n",
       "  </tbody>\n",
       "</table>\n",
       "</div>"
      ],
      "text/plain": [
       "                                             picture  labels\n",
       "0  [[[147, 152, 156], [142, 145, 150], [152, 153,...       1\n",
       "1  [[[114, 72, 30], [103, 65, 30], [96, 55, 27], ...       0\n",
       "2  [[[143, 131, 107], [130, 123, 98], [132, 115, ...       3\n",
       "3  [[[47, 38, 29], [44, 31, 25], [42, 31, 27], [3...       2\n",
       "4  [[[120, 116, 105], [140, 140, 130], [162, 161,...       3"
      ]
     },
     "execution_count": 10,
     "metadata": {},
     "output_type": "execute_result"
    }
   ],
   "source": [
    "# Recheck\n",
    "df_valid.head()"
   ]
  },
  {
   "cell_type": "code",
   "execution_count": 11,
   "id": "eae59ed9-5aff-4ea9-9dc0-0e435f1684a3",
   "metadata": {},
   "outputs": [
    {
     "data": {
      "text/html": [
       "<div>\n",
       "<style scoped>\n",
       "    .dataframe tbody tr th:only-of-type {\n",
       "        vertical-align: middle;\n",
       "    }\n",
       "\n",
       "    .dataframe tbody tr th {\n",
       "        vertical-align: top;\n",
       "    }\n",
       "\n",
       "    .dataframe thead th {\n",
       "        text-align: right;\n",
       "    }\n",
       "</style>\n",
       "<table border=\"1\" class=\"dataframe\">\n",
       "  <thead>\n",
       "    <tr style=\"text-align: right;\">\n",
       "      <th></th>\n",
       "      <th>picture</th>\n",
       "      <th>labels</th>\n",
       "    </tr>\n",
       "  </thead>\n",
       "  <tbody>\n",
       "    <tr>\n",
       "      <th>0</th>\n",
       "      <td>[[[83, 81, 86], [81, 76, 82], [97, 91, 91], [1...</td>\n",
       "      <td>2</td>\n",
       "    </tr>\n",
       "    <tr>\n",
       "      <th>1</th>\n",
       "      <td>[[[152, 143, 125], [143, 135, 116], [146, 143,...</td>\n",
       "      <td>3</td>\n",
       "    </tr>\n",
       "    <tr>\n",
       "      <th>2</th>\n",
       "      <td>[[[193, 197, 202], [200, 207, 215], [205, 212,...</td>\n",
       "      <td>1</td>\n",
       "    </tr>\n",
       "    <tr>\n",
       "      <th>3</th>\n",
       "      <td>[[[175, 195, 208], [174, 184, 185], [183, 189,...</td>\n",
       "      <td>3</td>\n",
       "    </tr>\n",
       "    <tr>\n",
       "      <th>4</th>\n",
       "      <td>[[[32, 25, 15], [36, 29, 19], [33, 26, 16], [2...</td>\n",
       "      <td>0</td>\n",
       "    </tr>\n",
       "  </tbody>\n",
       "</table>\n",
       "</div>"
      ],
      "text/plain": [
       "                                             picture  labels\n",
       "0  [[[83, 81, 86], [81, 76, 82], [97, 91, 91], [1...       2\n",
       "1  [[[152, 143, 125], [143, 135, 116], [146, 143,...       3\n",
       "2  [[[193, 197, 202], [200, 207, 215], [205, 212,...       1\n",
       "3  [[[175, 195, 208], [174, 184, 185], [183, 189,...       3\n",
       "4  [[[32, 25, 15], [36, 29, 19], [33, 26, 16], [2...       0"
      ]
     },
     "execution_count": 11,
     "metadata": {},
     "output_type": "execute_result"
    }
   ],
   "source": [
    "# Recheck\n",
    "df_test.head()"
   ]
  },
  {
   "cell_type": "code",
   "execution_count": 12,
   "id": "a21ec290-cb00-4d1e-8c81-022ee156a879",
   "metadata": {},
   "outputs": [],
   "source": [
    "# Define X and y for\n",
    "X_valid = np.array([i for i in df_valid[\"picture\"]]).reshape(-1, img_height,img_width, 3)/ 255.0\n",
    "y_valid = df_valid[\"labels\"]\n",
    "X_test = np.array([i for i in df_test[\"picture\"]]).reshape(-1, img_height,img_width, 3)/ 255.0\n",
    "y_test = df_test[\"labels\"]"
   ]
  },
  {
   "cell_type": "code",
   "execution_count": 13,
   "id": "e0f22698-0852-4348-bfca-ec3b3e6f435c",
   "metadata": {},
   "outputs": [
    {
     "data": {
      "text/plain": [
       "((682, 128, 128, 3), (682,), (683, 128, 128, 3), (683,))"
      ]
     },
     "execution_count": 13,
     "metadata": {},
     "output_type": "execute_result"
    }
   ],
   "source": [
    "# Check shape before prediction with model\n",
    "X_valid.shape, y_valid.shape, X_test.shape, y_test.shape"
   ]
  },
  {
   "cell_type": "code",
   "execution_count": 14,
   "id": "3b74b84a-701f-4ded-b3f1-04507ee123e3",
   "metadata": {},
   "outputs": [
    {
     "data": {
      "text/plain": [
       "labels\n",
       "0    30.791789\n",
       "1    30.205279\n",
       "2     5.571848\n",
       "3    33.431085\n",
       "Name: proportion, dtype: float64"
      ]
     },
     "execution_count": 14,
     "metadata": {},
     "output_type": "execute_result"
    }
   ],
   "source": [
    "# Check class in y_valid\n",
    "pd.Series(y_valid).value_counts(normalize=True).mul(100).sort_index(ascending=True)"
   ]
  },
  {
   "cell_type": "code",
   "execution_count": 15,
   "id": "f3db5491-514c-477e-a543-ab0f44793e03",
   "metadata": {},
   "outputs": [
    {
     "data": {
      "text/plain": [
       "labels\n",
       "0    30.893119\n",
       "1    30.161054\n",
       "2     5.563690\n",
       "3    33.382138\n",
       "Name: proportion, dtype: float64"
      ]
     },
     "execution_count": 15,
     "metadata": {},
     "output_type": "execute_result"
    }
   ],
   "source": [
    "# Check class in y_test\n",
    "pd.Series(y_test).value_counts(normalize=True).mul(100).sort_index(ascending=True)"
   ]
  },
  {
   "cell_type": "code",
   "execution_count": 16,
   "id": "d954cc87-3372-4452-867e-497e7c422dad",
   "metadata": {},
   "outputs": [],
   "source": [
    "# Define labels dictionary of each class\n",
    "labels_dict = {'Coccidiosis':0, 'Healthy poultry':1, 'Newcastle diseases':2, 'Salmonella':3}"
   ]
  },
  {
   "cell_type": "markdown",
   "id": "5a0deba1-42fc-4596-9870-4cf85a9e6fa6",
   "metadata": {},
   "source": [
    "## Baseline Model CNN"
   ]
  },
  {
   "cell_type": "code",
   "execution_count": 17,
   "id": "97bc8fed-a9bc-4192-96a7-44e89b604b42",
   "metadata": {},
   "outputs": [
    {
     "name": "stdout",
     "output_type": "stream",
     "text": [
      "WARNING:tensorflow:From C:\\Users\\HP\\Lib\\site-packages\\keras\\src\\backend.py:1398: The name tf.executing_eagerly_outside_functions is deprecated. Please use tf.compat.v1.executing_eagerly_outside_functions instead.\n",
      "\n",
      "WARNING:tensorflow:From C:\\Users\\HP\\Lib\\site-packages\\keras\\src\\layers\\pooling\\max_pooling2d.py:161: The name tf.nn.max_pool is deprecated. Please use tf.nn.max_pool2d instead.\n",
      "\n"
     ]
    }
   ],
   "source": [
    "# path of model \n",
    "cnn_path = r\"C:\\Users\\HP\\Desktop\\Data\\poultry_new\\model\\cnn_model.h5\"\n",
    "\n",
    "# load model \n",
    "cnn_model = load_model(model_path=cnn_path)"
   ]
  },
  {
   "cell_type": "code",
   "execution_count": 18,
   "id": "6de6b6bd-9fe6-480e-bb1d-c5c3120f6299",
   "metadata": {},
   "outputs": [
    {
     "name": "stdout",
     "output_type": "stream",
     "text": [
      "Size of model(MB): 24.10467529296875\n",
      "Model: \"sequential\"\n",
      "_________________________________________________________________\n",
      " Layer (type)                Output Shape              Param #   \n",
      "=================================================================\n",
      " conv2d (Conv2D)             (None, 128, 128, 16)      448       \n",
      "                                                                 \n",
      " max_pooling2d (MaxPooling2  (None, 64, 64, 16)        0         \n",
      " D)                                                              \n",
      "                                                                 \n",
      " conv2d_1 (Conv2D)           (None, 64, 64, 32)        4640      \n",
      "                                                                 \n",
      " max_pooling2d_1 (MaxPoolin  (None, 32, 32, 32)        0         \n",
      " g2D)                                                            \n",
      "                                                                 \n",
      " flatten (Flatten)           (None, 32768)             0         \n",
      "                                                                 \n",
      " dense (Dense)               (None, 64)                2097216   \n",
      "                                                                 \n",
      " dropout (Dropout)           (None, 64)                0         \n",
      "                                                                 \n",
      " dense_1 (Dense)             (None, 4)                 260       \n",
      "                                                                 \n",
      "=================================================================\n",
      "Total params: 2102564 (8.02 MB)\n",
      "Trainable params: 2102564 (8.02 MB)\n",
      "Non-trainable params: 0 (0.00 Byte)\n",
      "_________________________________________________________________\n"
     ]
    }
   ],
   "source": [
    "# check model summary\n",
    "# 2,102,564 parameters\n",
    "# Get file size in bytes for a given model\n",
    "print(f\"Size of model(MB): {(os.stat(cnn_path).st_size/1_048_576)}\") # convert Bytes to MB\n",
    "\n",
    "cnn_model.summary()"
   ]
  },
  {
   "cell_type": "code",
   "execution_count": 37,
   "id": "724a1727-0c92-4866-9424-863ed7b8ebfe",
   "metadata": {},
   "outputs": [
    {
     "name": "stdout",
     "output_type": "stream",
     "text": [
      "22/22 [==============================] - 1s 57ms/step\n",
      "Model : Cnn Model\n",
      "--------------------------------------------------\n",
      "              precision    recall  f1-score   support\n",
      "\n",
      " Coccidiosis       0.99      0.95      0.97       210\n",
      "  Salmonella       0.91      0.91      0.91       206\n",
      "   Newcastle       0.60      0.82      0.69        38\n",
      "     Healthy       0.93      0.91      0.92       228\n",
      "\n",
      "    accuracy                           0.92       682\n",
      "   macro avg       0.86      0.90      0.87       682\n",
      "weighted avg       0.92      0.92      0.92       682\n",
      "\n",
      "Accuracy score: 0.92\n",
      "F1 score average: 0.87\n"
     ]
    },
    {
     "data": {
      "text/plain": [
       "<Figure size 1200x1000 with 0 Axes>"
      ]
     },
     "metadata": {},
     "output_type": "display_data"
    },
    {
     "data": {
      "image/png": "[encoded data removed]",
      "text/plain": [
       "<Figure size 640x480 with 2 Axes>"
      ]
     },
     "metadata": {},
     "output_type": "display_data"
    }
   ],
   "source": [
    "get_metric(model=cnn_model,\n",
    "           X=X_valid,\n",
    "           name_model=\"Cnn Model\",\n",
    "           y_actual=y_valid,\n",
    "           figsize=(12, 10))"
   ]
  },
  {
   "cell_type": "code",
   "execution_count": 23,
   "id": "e394296e-5382-4294-b6b9-60b124e82424",
   "metadata": {},
   "outputs": [
    {
     "name": "stdout",
     "output_type": "stream",
     "text": [
      "        loss  accuracy  val_loss  val_accuracy\n",
      "20  0.090219  0.964708  0.356261      0.928153\n",
      "21  0.088389  0.967386  0.395990      0.916422\n",
      "22  0.070562  0.972113  0.478283      0.922287\n",
      "23  0.073352  0.970537  0.460765      0.913490\n",
      "24  0.080822  0.967386  0.368666      0.913490\n"
     ]
    },
    {
     "data": {
      "image/png": "[encoded data removed]",
      "text/plain": [
       "<Figure size 1400x500 with 2 Axes>"
      ]
     },
     "metadata": {},
     "output_type": "display_data"
    }
   ],
   "source": [
    "# See history of model  training\n",
    "histort_cnn_model = pd.read_csv(\"C:\\\\Users\\\\HP\\\\Desktop\\\\Data\\\\poultry_new\\\\model\\\\history_cnn_model16.csv\")\n",
    "plot_graph(histort_cnn_model)\n",
    "print(histort_cnn_model.tail())"
   ]
  },
  {
   "cell_type": "code",
   "execution_count": null,
   "id": "f5994a76-df73-49fa-a998-066d53c53ea8",
   "metadata": {},
   "outputs": [],
   "source": []
  }
 ],
 "metadata": {
  "kernelspec": {
   "display_name": "Python 3 (ipykernel)",
   "language": "python",
   "name": "python3"
  },
  "language_info": {
   "codemirror_mode": {
    "name": "ipython",
    "version": 3
   },
   "file_extension": ".py",
   "mimetype": "text/x-python",
   "name": "python",
   "nbconvert_exporter": "python",
   "pygments_lexer": "ipython3",
   "version": "3.11.5"
  }
 },
 "nbformat": 4,
 "nbformat_minor": 5
}
