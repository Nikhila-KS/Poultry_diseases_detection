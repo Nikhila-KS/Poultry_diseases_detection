{
 "cells": [
  {
   "cell_type": "markdown",
   "id": "54d96590-193c-4d37-b7de-66274fe5c080",
   "metadata": {},
   "source": [
    "# Model Evaluation"
   ]
  },
  {
   "cell_type": "code",
   "execution_count": 1,
   "id": "66fdee4c-fd3d-45d8-825a-2f3a437d8da1",
   "metadata": {},
   "outputs": [
    {
     "name": "stdout",
     "output_type": "stream",
     "text": [
      "WARNING:tensorflow:From C:\\Users\\HP\\Lib\\site-packages\\keras\\src\\losses.py:2976: The name tf.losses.sparse_softmax_cross_entropy is deprecated. Please use tf.compat.v1.losses.sparse_softmax_cross_entropy instead.\n",
      "\n"
     ]
    }
   ],
   "source": [
    "# Import library\n",
    "import matplotlib.pyplot as plt\n",
    "import numpy as np\n",
    "import pandas as pd\n",
    "from IPython.display import Image\n",
    "from tqdm import tqdm\n",
    "\n",
    "# Open file\n",
    "import os\n",
    "import PIL\n",
    "import cv2\n",
    "from os import listdir\n",
    "from random import shuffle\n",
    "\n",
    "# Model CNN (Deep learning network)\n",
    "import tensorflow as tf\n",
    "from tensorflow import keras\n",
    "from tensorflow.keras import layers\n",
    "from tensorflow.keras.models import Sequential\n",
    "from tensorflow.keras.layers import Conv2D, MaxPooling2D, Dense,\\\n",
    "GlobalAveragePooling2D, Dropout, Flatten\n",
    "from tensorflow.keras.optimizers import Adam\n",
    "from tensorflow.keras.preprocessing.image import ImageDataGenerator\n",
    "\n",
    "# Confusion matrix\n",
    "from sklearn.metrics import confusion_matrix, ConfusionMatrixDisplay, accuracy_score, classification_report,f1_score"
   ]
  },
  {
   "cell_type": "code",
   "execution_count": 2,
   "id": "ba751a29-f032-46c9-be58-386012b05b3d",
   "metadata": {},
   "outputs": [],
   "source": [
    "def create_label(word_label):\n",
    "    ''' \n",
    "        Input : subdirectories path have nane file with class label \n",
    "        Return : number of classes label of each class \n",
    "    '''\n",
    "    if word_label == \"Coccidiosis\":\n",
    "        return 0\n",
    "    elif word_label == \"Healthy poultry\":\n",
    "        return 1\n",
    "    elif word_label == \"Newcastle diseases\":\n",
    "        return 2\n",
    "    elif word_label == \"Salmonella\":\n",
    "        return 3"
   ]
  },
  {
   "cell_type": "code",
   "execution_count": 3,
   "id": "8461f0f0-fddf-490d-83ba-867af0ad7af6",
   "metadata": {},
   "outputs": [],
   "source": [
    "def created_dataset(DIR):\n",
    "    '''\n",
    "        Input : directories file have image file to want label   \n",
    "        Return : dataframe of arrary image (RGB-3D shape) follow by img_height and img_width and label of each classes image \n",
    "    '''\n",
    "    created_dataset = []\n",
    "    for labels_c in tqdm(os.listdir(DIR)):\n",
    "        path = os.path.join(DIR, labels_c)\n",
    "        for file in listdir(path):\n",
    "            img_data = cv2.imread(path+ \"/\" + file) \n",
    "            img_data = cv2.resize(img_data, (img_height , img_width))\n",
    "            img_data = cv2.cvtColor(img_data, cv2.COLOR_RGB2BGR)\n",
    "            created_dataset.append([np.array(img_data), create_label(labels_c)])\n",
    "    shuffle(created_dataset)\n",
    "    return pd.DataFrame(created_dataset, columns=[\"picture\",\"labels\"])"
   ]
  },
  {
   "cell_type": "code",
   "execution_count": 4,
   "id": "1a30b7ef-e38c-4a9d-89dc-238ea98c66e5",
   "metadata": {},
   "outputs": [],
   "source": [
    "def load_model(model_path):\n",
    "    '''\n",
    "        Input : subdirectories of model \n",
    "        Return : model of keras api with not complie \n",
    "    '''\n",
    "    model = tf.keras.models.load_model(model_path, compile = False)\n",
    "    return model"
   ]
  },
  {
   "cell_type": "code",
   "execution_count": 5,
   "id": "b02b7aaa-c9d4-4485-a124-9914923f28aa",
   "metadata": {},
   "outputs": [],
   "source": [
    "# Create function plot graph\n",
    "def plot_graph(history_model, finetune=False, initial_epochs=0):\n",
    "    ''' \n",
    "        Input : Model_values of keras.callbacks.History\n",
    "        Return : Graph of Loss funtion and Mean squared error between training dataset and testing dataset\n",
    "    '''\n",
    "    # Subplots\n",
    "    fig, ax = plt.subplots(1, 2, figsize=(14,5))\n",
    "    \n",
    "    # Plot loss\n",
    "    plt.subplot(1, 2, 1)\n",
    "    plt.plot(history_model['loss'], label='Training Loss');\n",
    "    plt.plot(history_model['val_loss'], label='Testing Loss');\n",
    "    if finetune==True:\n",
    "        plt.plot([initial_epochs-1,initial_epochs-1], plt.ylim(), label='Start Fine Tuning')\n",
    "    plt.legend(fontsize=12, loc='upper right')\n",
    "    plt.title('Training and Validation Loss')\n",
    "    plt.xlabel('Epochs')\n",
    "    plt.ylabel('Loss');\n",
    "    \n",
    "    # Plot accuracy\n",
    "    plt.subplot(1, 2, 2)\n",
    "    plt.plot(history_model['accuracy'], label='Training Accuracy')\n",
    "    plt.plot(history_model['val_accuracy'], label='Validation Accuracy')\n",
    "    if finetune==True:\n",
    "        plt.plot([initial_epochs-1,initial_epochs-1], plt.ylim(), label='Start Fine Tuning')\n",
    "    plt.legend(fontsize=12, loc='lower right')\n",
    "    plt.title('Training and Validation Accuracy')\n",
    "    plt.xlabel('Epochs')\n",
    "    plt.ylabel('Accuracy');"
   ]
  },
  {
   "cell_type": "code",
   "execution_count": 6,
   "id": "020dcbe2-edac-4fe8-8493-57017b7a0408",
   "metadata": {},
   "outputs": [],
   "source": [
    "def get_metric(model, X, y_actual, name_model=None, figsize=(12, 10)):\n",
    "    '''\n",
    "    Input : model = model of keras api \n",
    "            X = array of image follow by reshape and rescale fit for model input \n",
    "            y_actual = label of each image(X)\n",
    "            name_model = str name of model want to show \n",
    "    Return : ConfusionMatrixDisplay, accuracy_score, and size of the model \n",
    "    '''\n",
    "    prods_softmax = model.predict(X)\n",
    "    y_preds = np.array([np.where(v == v.max())[0][0] for v in prods_softmax])\n",
    "    print(f\"Model : {name_model}\")\n",
    "    print(\"-\" * 50)\n",
    "    labels = ['Coccidiosis', 'Salmonella', 'Newcastle', 'Healthy']\n",
    "    cm = confusion_matrix(y_actual, y_preds)\n",
    "\n",
    "    # Increase the size of the figure\n",
    "    plt.figure(figsize=figsize)\n",
    "\n",
    "    # # Rotate x-axis labels for better readability\n",
    "    # plt.xticks(rotation=45)\n",
    "\n",
    "    # Plot the confusion matrix\n",
    "    ConfusionMatrixDisplay(confusion_matrix=cm, display_labels=labels).plot(cmap=plt.cm.Blues);\n",
    "\n",
    "    print(classification_report(y_actual, y_preds, target_names=labels))\n",
    "    print(f\"Accuracy score: {round(accuracy_score(y_actual, y_preds), 2)}\")\n",
    "    print(f\"F1 score average: {round(f1_score(y_actual, y_preds, average='macro'), 2)}\")\n",
    "\n",
    "\n",
    "# def get_metric(model, X,  y_actual, name_model=None):\n",
    "#     '''\n",
    "#         Input : model = model of keras api \n",
    "#                 X = array of image follow by reshape and rescale fit for model input \n",
    "#                 y_actual = label of each image(X)\n",
    "#                 name_model = str name of model want to show \n",
    "#         Return : ConfusionMatrixDisplay, accuracy_score and size of model \n",
    "#     '''\n",
    "#     prods_softmax = model.predict(X)\n",
    "#     y_preds = np.array([np.where(v == v.max())[0][0] for v in prods_softmax])\n",
    "#     print(f\"Model : {name_model}\")\n",
    "#     print(\"-\"*50)\n",
    "#     labels = ['Coccidiosis', 'Salmonella', 'Newcastle diseases', 'Healthy poultry']\n",
    "#     cm = confusion_matrix(y_actual, y_preds)\n",
    "#     ConfusionMatrixDisplay(confusion_matrix=cm, display_labels=labels).plot(cmap=plt.cm.Blues);\n",
    "#     print(classification_report(y_actual, y_preds, target_names=labels))\n",
    "#     print(f\"Accuracy score: {round(accuracy_score(y_actual, y_preds),2)}\")\n",
    "#     print(f\"F1 score average: {round(f1_score(y_actual, y_preds, average = 'macro'),2)}\")"
   ]
  },
  {
   "cell_type": "code",
   "execution_count": 7,
   "id": "9a59ce25-dfa0-4c3b-a87f-83477c5ce3f4",
   "metadata": {},
   "outputs": [],
   "source": [
    "def get_values_model(X , y_actual, history_model, model, name_model=\"\", model_path=None):\n",
    " \n",
    "    ''' Show the overall metric model\n",
    "        Parameter : X = array of image follow by reshape and rescale fit for model input\n",
    "                    y_actual : label of each image(X)\n",
    "                    history_model : model_values of keras.callbacks.History\n",
    "                    model : model of keras api \n",
    "                    name_model : str name of model want to show\n",
    "                    model_path : subdirectories of model \n",
    "        Return : Add value of model to set of \n",
    "                model_name, loss, val_loss, accuracy, val_accuracy, F1_score, size_mb, number_params, input_size   \n",
    "    '''\n",
    "    \n",
    "    # Predict model \n",
    "    prods_softmax = model.predict(X)\n",
    "    y_preds = np.array([np.where(v == v.max())[0][0] for v in prods_softmax])\n",
    "    \n",
    "    # Add values\n",
    "    model_name.append(name_model)\n",
    "    loss.append(round(history_model.iloc[-1][\"loss\"],2))\n",
    "    val_loss.append(round(history_model.iloc[-1][\"val_loss\"],2))\n",
    "    accuracy.append(round(history_model.iloc[-1][\"accuracy\"],2))\n",
    "    val_accuracy.append(round(history_model.iloc[-1][\"val_accuracy\"],2))\n",
    "    F1_score.append(round(f1_score(y_actual, y_preds, average = 'macro'),2))\n",
    "    size_mb.append(round(os.stat(model_path).st_size/1_048_576 , 2))\n",
    "    number_params.append(f'{model.count_params():,}')\n",
    "    input_size.append(model.input_shape)"
   ]
  },
  {
   "cell_type": "markdown",
   "id": "1bb453fb-e8f8-4bea-8336-da11dbc5ccaa",
   "metadata": {},
   "source": [
    "## 01- Open dataset"
   ]
  },
  {
   "cell_type": "code",
   "execution_count": 8,
   "id": "074392b2-714d-4cfc-9df3-bd37cf6ed056",
   "metadata": {},
   "outputs": [],
   "source": [
    "# Define the paths\n",
    "original_dataset_path = r'C:\\Users\\HP\\Desktop\\Data\\Poultry_disease_detection_final\\poultry_data'\n",
    "train_path = r'C:\\Users\\HP\\Desktop\\Data\\Poultry_disease_detection_final\\Train'\n",
    "validation_path = r'C:\\Users\\HP\\Desktop\\Data\\Poultry_disease_detection_final\\Validate'\n",
    "test_path = r'C:\\Users\\HP\\Desktop\\Data\\Poultry_disease_detection_final\\Test'"
   ]
  },
  {
   "cell_type": "markdown",
   "id": "5c83c227-ed20-472f-b567-fa828d0970f5",
   "metadata": {},
   "source": [
    "## 02- Preprocessing image dataset"
   ]
  },
  {
   "cell_type": "code",
   "execution_count": 9,
   "id": "aae3c2f5-4e9a-4c04-86d9-3ec3f9e228e6",
   "metadata": {},
   "outputs": [
    {
     "name": "stderr",
     "output_type": "stream",
     "text": [
      "100%|████████████████████████████████████████████████████████████████████████████████████| 4/4 [01:01<00:00, 15.39s/it]\n",
      "100%|████████████████████████████████████████████████████████████████████████████████████| 4/4 [01:14<00:00, 18.70s/it]\n"
     ]
    }
   ],
   "source": [
    "# Create dataframe of validation and testing dataset \n",
    "# for model CNN and mobileNetV2\n",
    "# Using input image size 128x128\n",
    "img_height=128\n",
    "img_width=128\n",
    "df_valid = created_dataset(DIR=validation_path)\n",
    "df_test = created_dataset(DIR=test_path)"
   ]
  },
  {
   "cell_type": "code",
   "execution_count": 10,
   "id": "514df827-6f14-46a0-97b6-c32117d4ce2b",
   "metadata": {},
   "outputs": [
    {
     "data": {
      "text/html": [
       "<div>\n",
       "<style scoped>\n",
       "    .dataframe tbody tr th:only-of-type {\n",
       "        vertical-align: middle;\n",
       "    }\n",
       "\n",
       "    .dataframe tbody tr th {\n",
       "        vertical-align: top;\n",
       "    }\n",
       "\n",
       "    .dataframe thead th {\n",
       "        text-align: right;\n",
       "    }\n",
       "</style>\n",
       "<table border=\"1\" class=\"dataframe\">\n",
       "  <thead>\n",
       "    <tr style=\"text-align: right;\">\n",
       "      <th></th>\n",
       "      <th>picture</th>\n",
       "      <th>labels</th>\n",
       "    </tr>\n",
       "  </thead>\n",
       "  <tbody>\n",
       "    <tr>\n",
       "      <th>0</th>\n",
       "      <td>[[[172, 163, 158], [188, 185, 180], [178, 177,...</td>\n",
       "      <td>1</td>\n",
       "    </tr>\n",
       "    <tr>\n",
       "      <th>1</th>\n",
       "      <td>[[[138, 124, 87], [191, 178, 133], [181, 162, ...</td>\n",
       "      <td>3</td>\n",
       "    </tr>\n",
       "    <tr>\n",
       "      <th>2</th>\n",
       "      <td>[[[181, 163, 123], [127, 112, 71], [111, 98, 5...</td>\n",
       "      <td>2</td>\n",
       "    </tr>\n",
       "    <tr>\n",
       "      <th>3</th>\n",
       "      <td>[[[144, 130, 123], [142, 126, 125], [144, 133,...</td>\n",
       "      <td>1</td>\n",
       "    </tr>\n",
       "    <tr>\n",
       "      <th>4</th>\n",
       "      <td>[[[150, 158, 160], [156, 161, 164], [158, 162,...</td>\n",
       "      <td>2</td>\n",
       "    </tr>\n",
       "  </tbody>\n",
       "</table>\n",
       "</div>"
      ],
      "text/plain": [
       "                                             picture  labels\n",
       "0  [[[172, 163, 158], [188, 185, 180], [178, 177,...       1\n",
       "1  [[[138, 124, 87], [191, 178, 133], [181, 162, ...       3\n",
       "2  [[[181, 163, 123], [127, 112, 71], [111, 98, 5...       2\n",
       "3  [[[144, 130, 123], [142, 126, 125], [144, 133,...       1\n",
       "4  [[[150, 158, 160], [156, 161, 164], [158, 162,...       2"
      ]
     },
     "execution_count": 10,
     "metadata": {},
     "output_type": "execute_result"
    }
   ],
   "source": [
    "# Recheck\n",
    "df_valid.head()"
   ]
  },
  {
   "cell_type": "code",
   "execution_count": 11,
   "id": "eae59ed9-5aff-4ea9-9dc0-0e435f1684a3",
   "metadata": {},
   "outputs": [
    {
     "data": {
      "text/html": [
       "<div>\n",
       "<style scoped>\n",
       "    .dataframe tbody tr th:only-of-type {\n",
       "        vertical-align: middle;\n",
       "    }\n",
       "\n",
       "    .dataframe tbody tr th {\n",
       "        vertical-align: top;\n",
       "    }\n",
       "\n",
       "    .dataframe thead th {\n",
       "        text-align: right;\n",
       "    }\n",
       "</style>\n",
       "<table border=\"1\" class=\"dataframe\">\n",
       "  <thead>\n",
       "    <tr style=\"text-align: right;\">\n",
       "      <th></th>\n",
       "      <th>picture</th>\n",
       "      <th>labels</th>\n",
       "    </tr>\n",
       "  </thead>\n",
       "  <tbody>\n",
       "    <tr>\n",
       "      <th>0</th>\n",
       "      <td>[[[143, 140, 131], [85, 84, 79], [68, 66, 71],...</td>\n",
       "      <td>0</td>\n",
       "    </tr>\n",
       "    <tr>\n",
       "      <th>1</th>\n",
       "      <td>[[[189, 194, 197], [190, 200, 199], [192, 202,...</td>\n",
       "      <td>1</td>\n",
       "    </tr>\n",
       "    <tr>\n",
       "      <th>2</th>\n",
       "      <td>[[[101, 93, 90], [114, 113, 119], [135, 139, 1...</td>\n",
       "      <td>3</td>\n",
       "    </tr>\n",
       "    <tr>\n",
       "      <th>3</th>\n",
       "      <td>[[[138, 127, 138], [112, 115, 118], [123, 124,...</td>\n",
       "      <td>2</td>\n",
       "    </tr>\n",
       "    <tr>\n",
       "      <th>4</th>\n",
       "      <td>[[[74, 53, 32], [82, 63, 31], [90, 65, 34], [8...</td>\n",
       "      <td>0</td>\n",
       "    </tr>\n",
       "  </tbody>\n",
       "</table>\n",
       "</div>"
      ],
      "text/plain": [
       "                                             picture  labels\n",
       "0  [[[143, 140, 131], [85, 84, 79], [68, 66, 71],...       0\n",
       "1  [[[189, 194, 197], [190, 200, 199], [192, 202,...       1\n",
       "2  [[[101, 93, 90], [114, 113, 119], [135, 139, 1...       3\n",
       "3  [[[138, 127, 138], [112, 115, 118], [123, 124,...       2\n",
       "4  [[[74, 53, 32], [82, 63, 31], [90, 65, 34], [8...       0"
      ]
     },
     "execution_count": 11,
     "metadata": {},
     "output_type": "execute_result"
    }
   ],
   "source": [
    "# Recheck\n",
    "df_test.head()"
   ]
  },
  {
   "cell_type": "code",
   "execution_count": 12,
   "id": "a21ec290-cb00-4d1e-8c81-022ee156a879",
   "metadata": {},
   "outputs": [],
   "source": [
    "# Define X and y for\n",
    "X_valid = np.array([i for i in df_valid[\"picture\"]]).reshape(-1, img_height,img_width, 3)/ 255.0\n",
    "y_valid = df_valid[\"labels\"]\n",
    "X_test = np.array([i for i in df_test[\"picture\"]]).reshape(-1, img_height,img_width, 3)/ 255.0\n",
    "y_test = df_test[\"labels\"]"
   ]
  },
  {
   "cell_type": "code",
   "execution_count": 13,
   "id": "e0f22698-0852-4348-bfca-ec3b3e6f435c",
   "metadata": {},
   "outputs": [
    {
     "data": {
      "text/plain": [
       "((870, 128, 128, 3), (870,), (871, 128, 128, 3), (871,))"
      ]
     },
     "execution_count": 13,
     "metadata": {},
     "output_type": "execute_result"
    }
   ],
   "source": [
    "# Check shape before prediction with model\n",
    "X_valid.shape, y_valid.shape, X_test.shape, y_test.shape"
   ]
  },
  {
   "cell_type": "code",
   "execution_count": 14,
   "id": "3b74b84a-701f-4ded-b3f1-04507ee123e3",
   "metadata": {},
   "outputs": [
    {
     "data": {
      "text/plain": [
       "labels\n",
       "0    24.137931\n",
       "1    23.678161\n",
       "2    25.977011\n",
       "3    26.206897\n",
       "Name: proportion, dtype: float64"
      ]
     },
     "execution_count": 14,
     "metadata": {},
     "output_type": "execute_result"
    }
   ],
   "source": [
    "# Check class in y_valid\n",
    "pd.Series(y_valid).value_counts(normalize=True).mul(100).sort_index(ascending=True)"
   ]
  },
  {
   "cell_type": "code",
   "execution_count": 15,
   "id": "f3db5491-514c-477e-a543-ab0f44793e03",
   "metadata": {},
   "outputs": [
    {
     "data": {
      "text/plain": [
       "labels\n",
       "0    24.225029\n",
       "1    23.650976\n",
       "2    25.947187\n",
       "3    26.176808\n",
       "Name: proportion, dtype: float64"
      ]
     },
     "execution_count": 15,
     "metadata": {},
     "output_type": "execute_result"
    }
   ],
   "source": [
    "# Check class in y_test\n",
    "pd.Series(y_test).value_counts(normalize=True).mul(100).sort_index(ascending=True)"
   ]
  },
  {
   "cell_type": "code",
   "execution_count": 16,
   "id": "d954cc87-3372-4452-867e-497e7c422dad",
   "metadata": {},
   "outputs": [],
   "source": [
    "# Define labels dictionary of each class\n",
    "labels_dict = {'Coccidiosis':0, 'Healthy poultry':1, 'Newcastle diseases':2, 'Salmonella':3}"
   ]
  },
  {
   "cell_type": "markdown",
   "id": "5a0deba1-42fc-4596-9870-4cf85a9e6fa6",
   "metadata": {},
   "source": [
    "## 03- Baseline Model CNN"
   ]
  },
  {
   "cell_type": "code",
   "execution_count": 17,
   "id": "97bc8fed-a9bc-4192-96a7-44e89b604b42",
   "metadata": {},
   "outputs": [
    {
     "name": "stdout",
     "output_type": "stream",
     "text": [
      "WARNING:tensorflow:From C:\\Users\\HP\\Lib\\site-packages\\keras\\src\\backend.py:1398: The name tf.executing_eagerly_outside_functions is deprecated. Please use tf.compat.v1.executing_eagerly_outside_functions instead.\n",
      "\n",
      "WARNING:tensorflow:From C:\\Users\\HP\\Lib\\site-packages\\keras\\src\\layers\\pooling\\max_pooling2d.py:161: The name tf.nn.max_pool is deprecated. Please use tf.nn.max_pool2d instead.\n",
      "\n"
     ]
    }
   ],
   "source": [
    "# path of model \n",
    "cnn_path = r\"C:\\Users\\HP\\Desktop\\Data\\Poultry_disease_detection_final\\Models\\cnn\\cnn_model.h5\"\n",
    "\n",
    "# load model \n",
    "cnn_model = load_model(model_path=cnn_path)"
   ]
  },
  {
   "cell_type": "code",
   "execution_count": 18,
   "id": "6de6b6bd-9fe6-480e-bb1d-c5c3120f6299",
   "metadata": {},
   "outputs": [
    {
     "name": "stdout",
     "output_type": "stream",
     "text": [
      "Size of model(MB): 24.10467529296875\n",
      "Model: \"sequential\"\n",
      "_________________________________________________________________\n",
      " Layer (type)                Output Shape              Param #   \n",
      "=================================================================\n",
      " conv2d (Conv2D)             (None, 128, 128, 16)      448       \n",
      "                                                                 \n",
      " max_pooling2d (MaxPooling2  (None, 64, 64, 16)        0         \n",
      " D)                                                              \n",
      "                                                                 \n",
      " conv2d_1 (Conv2D)           (None, 64, 64, 32)        4640      \n",
      "                                                                 \n",
      " max_pooling2d_1 (MaxPoolin  (None, 32, 32, 32)        0         \n",
      " g2D)                                                            \n",
      "                                                                 \n",
      " flatten (Flatten)           (None, 32768)             0         \n",
      "                                                                 \n",
      " dense (Dense)               (None, 64)                2097216   \n",
      "                                                                 \n",
      " dropout (Dropout)           (None, 64)                0         \n",
      "                                                                 \n",
      " dense_1 (Dense)             (None, 4)                 260       \n",
      "                                                                 \n",
      "=================================================================\n",
      "Total params: 2102564 (8.02 MB)\n",
      "Trainable params: 2102564 (8.02 MB)\n",
      "Non-trainable params: 0 (0.00 Byte)\n",
      "_________________________________________________________________\n"
     ]
    }
   ],
   "source": [
    "# check model summary\n",
    "# 2,102,564 parameters\n",
    "# Get file size in bytes for a given model\n",
    "print(f\"Size of model(MB): {(os.stat(cnn_path).st_size/1_048_576)}\") # convert Bytes to MB\n",
    "\n",
    "cnn_model.summary()"
   ]
  },
  {
   "cell_type": "code",
   "execution_count": 19,
   "id": "724a1727-0c92-4866-9424-863ed7b8ebfe",
   "metadata": {},
   "outputs": [
    {
     "name": "stdout",
     "output_type": "stream",
     "text": [
      "28/28 [==============================] - 1s 22ms/step\n",
      "Model : Cnn Model\n",
      "--------------------------------------------------\n",
      "              precision    recall  f1-score   support\n",
      "\n",
      " Coccidiosis       0.96      0.96      0.96       210\n",
      "  Salmonella       0.92      0.92      0.92       206\n",
      "   Newcastle       0.95      0.93      0.94       226\n",
      "     Healthy       0.91      0.93      0.92       228\n",
      "\n",
      "    accuracy                           0.94       870\n",
      "   macro avg       0.94      0.94      0.94       870\n",
      "weighted avg       0.94      0.94      0.94       870\n",
      "\n",
      "Accuracy score: 0.94\n",
      "F1 score average: 0.94\n"
     ]
    },
    {
     "data": {
      "text/plain": [
       "<Figure size 1200x1000 with 0 Axes>"
      ]
     },
     "metadata": {},
     "output_type": "display_data"
    },
    {
     "data": {
      "image/png": "[encoded data removed]",
      "text/plain": [
       "<Figure size 640x480 with 2 Axes>"
      ]
     },
     "metadata": {},
     "output_type": "display_data"
    }
   ],
   "source": [
    "get_metric(model=cnn_model,\n",
    "           X=X_valid,\n",
    "           name_model=\"Cnn Model\",\n",
    "           y_actual=y_valid,\n",
    "           figsize=(12, 10))"
   ]
  },
  {
   "cell_type": "code",
   "execution_count": 20,
   "id": "e394296e-5382-4294-b6b9-60b124e82424",
   "metadata": {},
   "outputs": [
    {
     "name": "stdout",
     "output_type": "stream",
     "text": [
      "        loss  accuracy  val_loss  val_accuracy\n",
      "20  0.210396  0.902029  0.246399      0.935632\n",
      "21  0.208870  0.903755  0.231898      0.931035\n",
      "22  0.204870  0.907783  0.249950      0.935632\n",
      "23  0.213140  0.908646  0.274316      0.921839\n",
      "24  0.204629  0.914257  0.217535      0.935632\n"
     ]
    },
    {
     "data": {
      "image/png": "[encoded data removed]",
      "text/plain": [
       "<Figure size 1400x500 with 2 Axes>"
      ]
     },
     "metadata": {},
     "output_type": "display_data"
    }
   ],
   "source": [
    "# See history of model  training\n",
    "histort_cnn_model = pd.read_csv(\"C:\\\\Users\\\\HP\\\\Desktop\\\\Data\\\\Poultry_disease_detection_final\\\\Models\\\\cnn\\\\history_cnn_model16.csv\")\n",
    "plot_graph(histort_cnn_model)\n",
    "print(histort_cnn_model.tail())"
   ]
  },
  {
   "cell_type": "code",
   "execution_count": null,
   "id": "f5994a76-df73-49fa-a998-066d53c53ea8",
   "metadata": {},
   "outputs": [],
   "source": []
  },
  {
   "cell_type": "markdown",
   "id": "0d1980c8-9363-426e-8a89-769867ad9fc2",
   "metadata": {},
   "source": [
    "## 04- Transfer Learning and Fine Tuning MobileNetV2 Model"
   ]
  },
  {
   "cell_type": "code",
   "execution_count": null,
   "id": "579f18a6-a0d9-43f5-b73c-073dbd393672",
   "metadata": {},
   "outputs": [],
   "source": [
    "# path of model \n",
    "mobnv2_tf_path = \"../model/mobilenetV2/mobilenetv2.h5\"\n",
    "mobnv2_ft_path = \"../model/mobilenetV2/mobilenetv2_ft.h5\"\n",
    "\n",
    "# load model \n",
    "mobnv2_tf_model = load_model(model_path=mobnv2_tf_path)\n",
    "mobnv2_ft_model = load_model(model_path=mobnv2_ft_path)"
   ]
  },
  {
   "cell_type": "code",
   "execution_count": null,
   "id": "058b44b9-4ba1-4c1e-aa9e-1d1f5e3317f9",
   "metadata": {},
   "outputs": [],
   "source": [
    "# check model summary\n",
    "# Total params: 2,263,108 parameters (equal params between transfer learning and fine tuning )\n",
    "# Get file size in bytes for a given model\n",
    "print(f\"Size of MobileNetV2 transfer learning model(MB): {(os.stat(mobnv2_tf_path).st_size/1_048_576)}\") # convert Bytes to MB\n",
    "print(f\"Size of MobileNetV2 fine tuning model(MB): {(os.stat(mobnv2_ft_path).st_size/1_048_576)}\")"
   ]
  },
  {
   "cell_type": "code",
   "execution_count": null,
   "id": "bdb1ab34-986c-4165-9768-b95adefb298e",
   "metadata": {},
   "outputs": [],
   "source": [
    "# check model summary\n",
    "# Trainable params: 5,124\n",
    "mobnv2_tf_model.summary()"
   ]
  },
  {
   "cell_type": "code",
   "execution_count": null,
   "id": "1c3459b2-c07c-4900-961a-bd9641cc4a9a",
   "metadata": {},
   "outputs": [],
   "source": [
    "# check model summary\n",
    "# Trainable params: 1,866,564\n",
    "mobnv2_ft_model.summary()"
   ]
  },
  {
   "cell_type": "code",
   "execution_count": null,
   "id": "462bbf37-3f6d-49c3-ae0f-bc9bd2d27895",
   "metadata": {},
   "outputs": [],
   "source": [
    "# See confusion_matrix of model \n",
    "get_metric(model=mobnv2_tf_model,\n",
    "          X=X_valid,\n",
    "          name_model=\"MobileNetV2 Transfer Learning Model\",\n",
    "          y_actual=y_valid)"
   ]
  },
  {
   "cell_type": "code",
   "execution_count": null,
   "id": "4e6434e3-6323-472e-a5c8-07eb2b67e530",
   "metadata": {},
   "outputs": [],
   "source": [
    "# See confusion_matrix of model \n",
    "get_metric(model=mobnv2_ft_model,\n",
    "          X=X_valid,\n",
    "          name_model=\"MobileNetV2 Fine Tuning Model\",\n",
    "          y_actual=y_valid)"
   ]
  },
  {
   "cell_type": "code",
   "execution_count": null,
   "id": "e73bc124-5188-4133-83c7-524d0074099f",
   "metadata": {},
   "outputs": [],
   "source": [
    "# See history of model training both transfer learing or fine tuning\n",
    "histort_mobnv2_tf_model = pd.read_csv(\"../model/mobilenetV2/history_mobilenetv2.csv\", index_col=\"Unnamed: 0\")\n",
    "histort_mobnv2_ft_model = pd.read_csv(\"../model/mobilenetV2/history_mobilenetv2_ft.csv\", index_col=\"Unnamed: 0\")\n",
    "histort_mobnv2_model = pd.concat([histort_mobnv2_tf_model, histort_mobnv2_ft_model], ignore_index=True)\n",
    "histort_mobnv2_model.tail()"
   ]
  },
  {
   "cell_type": "code",
   "execution_count": null,
   "id": "36f5d9ee-5fff-4408-ac82-6d6becd00a48",
   "metadata": {},
   "outputs": [],
   "source": [
    "# See only history of model training transfer learing\n",
    "histort_mobnv2_tf_model.tail()"
   ]
  },
  {
   "cell_type": "code",
   "execution_count": null,
   "id": "3a6efac2-bbe4-4796-8095-5e3dadd71beb",
   "metadata": {},
   "outputs": [],
   "source": [
    "# Show graph\n",
    "plot_graph(histort_mobnv2_model,finetune=True, initial_epochs=25)"
   ]
  },
  {
   "cell_type": "code",
   "execution_count": null,
   "id": "daac8436-7776-47ed-95e2-5b324ffd56bf",
   "metadata": {},
   "outputs": [],
   "source": []
  },
  {
   "cell_type": "markdown",
   "id": "049ca0c5-4f5b-43cd-b675-3ee39774340e",
   "metadata": {},
   "source": [
    "## 05- Transfer Learning and Fine Tuning VGG16 Model"
   ]
  },
  {
   "cell_type": "code",
   "execution_count": null,
   "id": "4e2eb9a6-04a8-4de4-8156-e4506323ac62",
   "metadata": {},
   "outputs": [],
   "source": [
    "# Create dataframe of validation and testing dataset \n",
    "# for model VGG16 \n",
    "# Using input image size 224x224\n",
    "img_height= 224\n",
    "img_width= 224\n",
    "df_valid_224 = created_dataset(DIR=valid_dir)\n",
    "df_test_224 = created_dataset(DIR=test_dir)"
   ]
  },
  {
   "cell_type": "code",
   "execution_count": null,
   "id": "64d89ef0-87f6-468e-8b33-f3c21f4bd54b",
   "metadata": {},
   "outputs": [],
   "source": [
    "# Define X and y and reshape\n",
    "X_valid_224 = np.array([i for i in df_valid_224[\"picture\"]]).reshape(-1, img_height,img_width, 3)/ 255.0\n",
    "y_valid_224 = df_valid_224[\"labels\"]\n",
    "X_test_224 = np.array([i for i in df_test_224[\"picture\"]]).reshape(-1, img_height,img_width, 3)/ 255.0\n",
    "y_test_224 = df_test_224[\"labels\"]"
   ]
  },
  {
   "cell_type": "code",
   "execution_count": null,
   "id": "c59a7980-52d1-44f1-836b-26b4d9437dd6",
   "metadata": {},
   "outputs": [],
   "source": [
    "# Check shape before prediction with model\n",
    "X_valid_224.shape, y_valid_224.shape, X_test_224.shape, y_test_224.shape"
   ]
  },
  {
   "cell_type": "code",
   "execution_count": null,
   "id": "b9f5b670-5630-48cc-a527-1096015df00c",
   "metadata": {},
   "outputs": [],
   "source": [
    "# path of model \n",
    "vgg16_tf_path = \"../model/vgg16/vgg_16.h5\"\n",
    "vgg16_ft_path = \"../model/vgg16/vgg_16_ft.h5\"\n",
    "\n",
    "# load model \n",
    "vgg16_tf_model = load_model(model_path=vgg16_tf_path)\n",
    "vgg16_ft_model = load_model(model_path=vgg16_ft_path)"
   ]
  },
  {
   "cell_type": "code",
   "execution_count": null,
   "id": "8dd1330c-f922-4d04-bad6-4c1ac5f73b46",
   "metadata": {},
   "outputs": [],
   "source": [
    "# check model summary\n",
    "# Total params: 14,716,740 parameters (equal params between transfer learning and fine tuning )\n",
    "# Get file size in bytes for a given model\n",
    "print(f\"Size of VGG16 transfer learning model(MB): {(os.stat(vgg16_tf_path).st_size/1_048_576)}\") # convert Bytes to MB\n",
    "print(f\"Size of VGG16 fine tuning model(MB): {(os.stat(vgg16_ft_path).st_size/1_048_576)}\")"
   ]
  },
  {
   "cell_type": "code",
   "execution_count": null,
   "id": "4ad26a41-9daf-492d-ae3a-0f740a77756a",
   "metadata": {},
   "outputs": [],
   "source": [
    "# check model summary\n",
    "vgg16_tf_model.summary()"
   ]
  },
  {
   "cell_type": "code",
   "execution_count": null,
   "id": "f118783d-cd07-4b78-b865-1268de6a9f09",
   "metadata": {},
   "outputs": [],
   "source": [
    "# check model summary\n",
    "vgg16_ft_model.summary()"
   ]
  },
  {
   "cell_type": "code",
   "execution_count": null,
   "id": "7b9cda9d-6dd2-4c84-9ee0-62bf8170ad61",
   "metadata": {},
   "outputs": [],
   "source": [
    "# See confusion_matrix of model \n",
    "get_metric(model=vgg16_tf_model,\n",
    "          X=X_valid_224,\n",
    "          name_model=\"VGG16 Transfer Learning Model\",\n",
    "          y_actual=y_valid_224)"
   ]
  },
  {
   "cell_type": "code",
   "execution_count": null,
   "id": "b970d6ee-841e-4ce4-aab9-8d16e48d7f5c",
   "metadata": {},
   "outputs": [],
   "source": [
    "# See confusion_matrix of model \n",
    "get_metric(model=vgg16_ft_model,\n",
    "          X=X_valid_224,\n",
    "          name_model=\"VGG16 Fine Tuning Model\",\n",
    "          y_actual=y_valid_224)"
   ]
  },
  {
   "cell_type": "code",
   "execution_count": null,
   "id": "b56336b8-bb7c-4c2d-9cfe-21a460301577",
   "metadata": {},
   "outputs": [],
   "source": [
    "# See history of model training both transfer learing or fine tuning\n",
    "histort_vgg16_tf_model = pd.read_csv(\"../model/vgg16/history_vgg16.csv\", index_col=\"Unnamed: 0\")\n",
    "histort_vgg16_ft_model = pd.read_csv(\"../model/vgg16/history_vgg16_ft.csv\", index_col=\"Unnamed: 0\")\n",
    "histort_vgg16_model = pd.concat([histort_vgg16_tf_model, histort_vgg16_ft_model], ignore_index=True)\n",
    "histort_vgg16_model.tail()"
   ]
  },
  {
   "cell_type": "code",
   "execution_count": null,
   "id": "ab7d9683-e4a0-43be-9588-c07e5669377d",
   "metadata": {},
   "outputs": [],
   "source": [
    "# See only history of model training transfer learing\n",
    "histort_vgg16_tf_model.tail()"
   ]
  },
  {
   "cell_type": "code",
   "execution_count": null,
   "id": "3e7164a0-1f20-4d01-a802-bc16624823a0",
   "metadata": {},
   "outputs": [],
   "source": [
    "# plot graph\n",
    "plot_graph(histort_vgg16_model,finetune=True, initial_epochs=25)"
   ]
  },
  {
   "cell_type": "code",
   "execution_count": null,
   "id": "570e3a32-37c9-4694-b370-06ca779bb55e",
   "metadata": {},
   "outputs": [],
   "source": []
  },
  {
   "cell_type": "markdown",
   "id": "eb81242f-8473-4c4d-b60d-7a275886ae6e",
   "metadata": {},
   "source": [
    "## 06- Model Comparison"
   ]
  },
  {
   "cell_type": "code",
   "execution_count": null,
   "id": "6efc21f4-c9f9-43e5-9bb8-1534a44eb2cb",
   "metadata": {},
   "outputs": [],
   "source": [
    "# list \n",
    "model_name, loss, val_loss, accuracy, val_accuracy, F1_score, size_mb, number_params, input_size =  [],[],[],[],[],[],[],[],[]"
   ]
  },
  {
   "cell_type": "code",
   "execution_count": null,
   "id": "45c2cf1b-0256-4dcc-82de-fa0456288e6b",
   "metadata": {},
   "outputs": [],
   "source": [
    "# Check shape before prediction with model of CNN and MobileNetV2\n",
    "X_valid.shape, y_valid.shape, X_test.shape, y_test.shape"
   ]
  },
  {
   "cell_type": "code",
   "execution_count": null,
   "id": "8aee68bd-6ea5-474d-8ce7-f77e582867bc",
   "metadata": {},
   "outputs": [],
   "source": [
    "# Check shape before prediction with model of VGG16\n",
    "X_valid_224.shape, y_valid_224.shape, X_test_224.shape, y_test_224.shape"
   ]
  },
  {
   "cell_type": "code",
   "execution_count": null,
   "id": "c82aad17-719e-4de4-af53-326a8085fb77",
   "metadata": {},
   "outputs": [],
   "source": [
    "# Cnn model\n",
    "get_values_model(X_valid, \n",
    "                 y_valid, \n",
    "                 history_model=histort_cnn_model,\n",
    "                 model=cnn_model,\n",
    "                 name_model=\"CNN_Baseline\",\n",
    "                 model_path=cnn_path)"
   ]
  },
  {
   "cell_type": "code",
   "execution_count": null,
   "id": "4c754544-da24-4afd-8817-6b5ce5d18b49",
   "metadata": {},
   "outputs": [],
   "source": [
    "# MobileNetV2 Transfer learning\n",
    "get_values_model(X_valid, \n",
    "                 y_valid, \n",
    "                 history_model=histort_mobnv2_tf_model,\n",
    "                 model=mobnv2_tf_model,\n",
    "                 name_model=\"MobileNetV2_tf\",\n",
    "                 model_path=mobnv2_tf_path)\n",
    "\n",
    "# MobileNetV2 Fine_tuning\n",
    "get_values_model(X_valid, \n",
    "                 y_valid, \n",
    "                 history_model=histort_mobnv2_ft_model,\n",
    "                 model=mobnv2_ft_model,\n",
    "                 name_model=\"MobileNetV2_ft\",\n",
    "                 model_path=mobnv2_ft_path)"
   ]
  },
  {
   "cell_type": "code",
   "execution_count": null,
   "id": "0f6bf49b-9b17-4227-9990-b51637569047",
   "metadata": {},
   "outputs": [],
   "source": [
    "# VGG16 Transfer learning\n",
    "get_values_model(X=X_valid_224, \n",
    "                 y_actual=y_valid_224, \n",
    "                 history_model=histort_vgg16_tf_model,\n",
    "                 model=vgg16_tf_model,\n",
    "                 name_model=\"VGG16_tf\",\n",
    "                 model_path=vgg16_tf_path)\n",
    "\n",
    "# VGG16 Fine_tuning\n",
    "get_values_model(X=X_valid_224, \n",
    "                 y_actual=y_valid_224, \n",
    "                 history_model=histort_vgg16_ft_model,\n",
    "                 model=vgg16_ft_model,\n",
    "                 name_model=\"VGG16_ft\",\n",
    "                 model_path=vgg16_ft_path)"
   ]
  },
  {
   "cell_type": "code",
   "execution_count": null,
   "id": "3fec3016-11cd-42d2-b918-eb6f1629ac10",
   "metadata": {},
   "outputs": [],
   "source": [
    "# Create Dataframe\n",
    "result_model = pd.DataFrame(data = [model_name, loss, val_loss, accuracy, val_accuracy, F1_score, size_mb, number_params, input_size],\\\n",
    "               index = ['model_name','loss','val_loss','accuracy','val_accuracy','F1_score','size_mb','number_params', \"input_size\"])"
   ]
  },
  {
   "cell_type": "code",
   "execution_count": null,
   "id": "b6a7d5b7-1226-48f8-b362-91f2841266ef",
   "metadata": {},
   "outputs": [],
   "source": [
    "# Show results\n",
    "result_model"
   ]
  },
  {
   "cell_type": "code",
   "execution_count": null,
   "id": "7daed9a0-5f83-425b-9414-c9a63384655b",
   "metadata": {},
   "outputs": [],
   "source": []
  },
  {
   "cell_type": "markdown",
   "id": "d8b6b752-ee87-484d-b7af-8d6d502126cc",
   "metadata": {},
   "source": [
    "## 07- Select Best Model"
   ]
  },
  {
   "cell_type": "code",
   "execution_count": null,
   "id": "6b1d997a-63db-456b-95be-333f6efdc925",
   "metadata": {},
   "outputs": [],
   "source": [
    "# MobileNetV2 Transfer learning in testing dataset\n",
    "get_values_model(X=X_test, \n",
    "                 y_actual=y_test, \n",
    "                 history_model=histort_mobnv2_tf_model,\n",
    "                 model=mobnv2_tf_model,\n",
    "                 name_model=\"MobileNetV2_tf_bestmodel\",\n",
    "                 model_path=mobnv2_tf_path)"
   ]
  },
  {
   "cell_type": "code",
   "execution_count": null,
   "id": "76f4f63c-351a-48b7-bff9-a45d9ee101d9",
   "metadata": {},
   "outputs": [],
   "source": [
    "# Create Dataframe\n",
    "selected_model = pd.DataFrame(data = [model_name, loss, val_loss, accuracy, val_accuracy, F1_score, size_mb, number_params, input_size],\\\n",
    "               index = ['model_name','loss','val_loss','accuracy','val_accuracy','F1_score','size_mb','number_params', \"input_size\"])"
   ]
  },
  {
   "cell_type": "code",
   "execution_count": null,
   "id": "b6e466b1-5088-45b9-b430-3764c9f7ee1f",
   "metadata": {},
   "outputs": [],
   "source": [
    "# Show metric of selected model MobileNetV2_tf_bestmodel\n",
    "selected_model[[5]]"
   ]
  },
  {
   "cell_type": "code",
   "execution_count": null,
   "id": "3eab2d00-da71-45eb-8473-ec306fa9fd0d",
   "metadata": {},
   "outputs": [],
   "source": [
    "# See confusion_matrix of selected model \n",
    "get_metric(model=mobnv2_tf_model,\n",
    "          X=X_test,\n",
    "          name_model=\"MobileNetV2 Model\",\n",
    "          y_actual=y_test)"
   ]
  },
  {
   "cell_type": "code",
   "execution_count": null,
   "id": "970f8724-ea7f-4a8d-b6b1-782b18fefd3f",
   "metadata": {},
   "outputs": [],
   "source": []
  },
  {
   "cell_type": "markdown",
   "id": "8d0eb07d-7040-4124-b0f6-66231de2e8a6",
   "metadata": {},
   "source": [
    "## 08- Testing with Selected Model"
   ]
  },
  {
   "cell_type": "code",
   "execution_count": null,
   "id": "4901517f-486b-4855-8a1d-f0a8bed14c03",
   "metadata": {},
   "outputs": [],
   "source": [
    "# Test actual picture form Thailand farmer \n",
    "model = mobnv2_tf_model\n",
    "\n",
    "# load image\n",
    "path = \"../picture/healthy_thai_1.jpg\"\n",
    "img = keras.preprocessing.image.load_img(path, target_size=(img_height, img_width))\n",
    "img_array = keras.preprocessing.image.img_to_array(img)\n",
    "img_array = tf.expand_dims(img_array, 0)\n",
    "\n",
    "# Predict\n",
    "predictions = model.predict(img_array*1/255.)\n",
    "score = tf.nn.softmax(predictions[0])\n",
    "display(Image(filename=path))\n",
    "print(\"This image most likely belongs to {} with a {:.2f} percent confidence.\"\n",
    ".format([j for j in labels_dict if labels_dict[j] == np.argmax(score)][0], 100 * np.max(score)))"
   ]
  },
  {
   "cell_type": "code",
   "execution_count": null,
   "id": "c8db9d2c-9721-497d-91e5-e7e6b1132a40",
   "metadata": {},
   "outputs": [],
   "source": [
    "# Test actual picture form Thailand farmer \n",
    "model = mobnv2_tf_model\n",
    "\n",
    "# load image\n",
    "path = \"../picture/healthy_thai_2.jpg\"\n",
    "img = keras.preprocessing.image.load_img(path, target_size=(img_height, img_width))\n",
    "img_array = keras.preprocessing.image.img_to_array(img)\n",
    "img_array = tf.expand_dims(img_array, 0)\n",
    "\n",
    "# Predict\n",
    "predictions = model.predict(img_array*1/255.)\n",
    "score = tf.nn.softmax(predictions[0])\n",
    "display(Image(filename=path))\n",
    "print(\"This image most likely belongs to {} with a {:.2f} percent confidence.\"\n",
    ".format([j for j in labels_dict if labels_dict[j] == np.argmax(score)][0], 100 * np.max(score)))"
   ]
  }
 ],
 "metadata": {
  "kernelspec": {
   "display_name": "Python 3 (ipykernel)",
   "language": "python",
   "name": "python3"
  },
  "language_info": {
   "codemirror_mode": {
    "name": "ipython",
    "version": 3
   },
   "file_extension": ".py",
   "mimetype": "text/x-python",
   "name": "python",
   "nbconvert_exporter": "python",
   "pygments_lexer": "ipython3",
   "version": "3.11.4"
  }
 },
 "nbformat": 4,
 "nbformat_minor": 5
}
