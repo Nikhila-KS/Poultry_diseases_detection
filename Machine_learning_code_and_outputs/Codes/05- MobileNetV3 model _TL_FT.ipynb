{
 "cells": [
  {
   "cell_type": "markdown",
   "id": "b16ce5bd-8882-4334-adea-118903f7965c",
   "metadata": {},
   "source": [
    "# MobileNetV3 Model"
   ]
  },
  {
   "cell_type": "code",
   "execution_count": null,
   "id": "9d660d95-cdf7-4b8c-b6ca-9dd657981e10",
   "metadata": {},
   "outputs": [],
   "source": [
    "# Import library\n",
    "import matplotlib.pyplot as plt\n",
    "import numpy as np\n",
    "import pandas as pd\n",
    "from IPython.display import Image\n",
    "\n",
    "# Open file\n",
    "import os\n",
    "import PIL\n",
    "from random import seed\n",
    "# Model CNN (Deep learning network)\n",
    "import tensorflow as tf\n",
    "from tensorflow import keras\n",
    "from tensorflow.keras import layers\n",
    "from tensorflow.keras.models import Sequential\n",
    "from tensorflow.keras.layers import Conv2D, MaxPooling2D, Dense,\\\n",
    "GlobalAveragePooling2D, Dropout, Flatten\n",
    "from tensorflow.keras.optimizers import Adam\n",
    "from tensorflow.keras.preprocessing.image import ImageDataGenerator\n",
    "# from tensorflow.keras.applications import MobileNetV3Small"
   ]
  },
  {
   "cell_type": "code",
   "execution_count": null,
   "id": "d0a56712-4699-42a6-bfb6-0de5b901d7e4",
   "metadata": {},
   "outputs": [],
   "source": [
    "# Create function plot loss function and accuracy score graph\n",
    "def plot_graph(model_values):\n",
    "    ''' \n",
    "    Input : Model_values of keras.callbacks.History\n",
    "    Return : Graph of Loss function and accuracy score between training dataset and vaildation dataset\n",
    "    '''\n",
    "    # Subplots\n",
    "    fig, ax = plt.subplots(1, 2, figsize=(14,5))\n",
    "    \n",
    "    # Plot loss\n",
    "    plt.subplot(1, 2, 1)\n",
    "    plt.plot(model_values.history['loss'], label='Training Loss');\n",
    "    plt.plot(model_values.history['val_loss'], label='Testing Loss');\n",
    "    plt.legend(fontsize=12, loc='upper right')\n",
    "    plt.title('Training and Validation Loss')\n",
    "    plt.xlabel('Epochs')\n",
    "    plt.ylabel('Loss');\n",
    "    \n",
    "    # Plot MSE\n",
    "    plt.subplot(1, 2, 2)\n",
    "    \n",
    "    plt.plot(model_values.history['accuracy'], label='Training Accuracy')\n",
    "    plt.plot(model_values.history['val_accuracy'], label='Validation Accuracy')\n",
    "    \n",
    "    plt.legend(fontsize=12, loc='lower right')\n",
    "    plt.title('Training and Validation Accuracy')\n",
    "    plt.xlabel('Epochs')\n",
    "    plt.ylabel('Accuracy');"
   ]
  },
  {
   "cell_type": "markdown",
   "id": "fea1fc4e-bc59-41e3-804a-cf710b35c028",
   "metadata": {},
   "source": [
    "## 00- Check GPU"
   ]
  },
  {
   "cell_type": "code",
   "execution_count": null,
   "id": "7eccd858-1e32-454b-8b39-b84f33776acd",
   "metadata": {},
   "outputs": [],
   "source": [
    "# https://www.tensorflow.org/guide/keras/sequential_model\n",
    "# Due to we use Keras Sequential API, \n",
    "# We want to check GPU first before training our model for \n",
    "# impore efficiency and reduce time. \n",
    "from tensorflow.python.client import device_lib\n",
    "print(device_lib.list_local_devices())"
   ]
  },
  {
   "cell_type": "markdown",
   "id": "06f52391-d5cd-43c0-8f82-b14037d831d0",
   "metadata": {},
   "source": [
    "## 01- Open Dataset"
   ]
  },
  {
   "cell_type": "code",
   "execution_count": null,
   "id": "07a36385-60c8-4b82-bd0c-a78524e383c7",
   "metadata": {},
   "outputs": [],
   "source": [
    "# Define the paths\n",
    "original_dataset_path = r'C:\\Users\\HP\\Desktop\\Data\\poultry_disease_detection_third_iteration\\poultry_data'\n",
    "train_path = r\"C:\\Users\\HP\\Desktop\\Data\\poultry_disease_detection_third_iteration\\Train\"\n",
    "validation_path = r\"C:\\Users\\HP\\Desktop\\Data\\poultry_disease_detection_third_iteration\\Validate\"\n",
    "test_path = r\"C:\\Users\\HP\\Desktop\\Data\\poultry_disease_detection_third_iteration\\Test\""
   ]
  },
  {
   "cell_type": "markdown",
   "id": "b06d5dbf-3927-46d2-88c0-a4adf8ff882a",
   "metadata": {},
   "source": [
    "## 02 Preprocessing image dataset"
   ]
  },
  {
   "cell_type": "code",
   "execution_count": null,
   "id": "ae8abe87-7344-4dd6-85cb-6c5b75ddae1d",
   "metadata": {},
   "outputs": [],
   "source": [
    "# Set parameter of image \n",
    "# https://github.com/keras-team/keras/issues/8090#issuecomment-335155737\n",
    "batch_size = 50 # Set the batch size for epoch cycle\n",
    "img_height = 128 # Set the height of the picture\n",
    "img_width = 128 # Set the width of the picture\n",
    "\n",
    "# Rescale pixel to reduce image size before using in model\n",
    "data_gen_train = ImageDataGenerator(rescale=1/255.)\n",
    "data_gen_valid = ImageDataGenerator(rescale=1/255.)\n",
    "data_gen_test = ImageDataGenerator(rescale=1/255.)"
   ]
  },
  {
   "cell_type": "code",
   "execution_count": null,
   "id": "62a2bb1f-64c7-4899-81ec-57df1c1f6065",
   "metadata": {},
   "outputs": [],
   "source": [
    "# Create training dataset\n",
    "train_dataset = data_gen_train.flow_from_directory(train_path,\n",
    "                                                   class_mode=\"categorical\",\n",
    "                                                   target_size=(img_height, img_width),\n",
    "                                                   batch_size=batch_size)\n",
    "\n",
    "# Create validation dataset\n",
    "valid_dataset = data_gen_valid.flow_from_directory(validation_path,\n",
    "                                                   class_mode=\"categorical\",\n",
    "                                                   target_size=(img_height, img_width),\n",
    "                                                   batch_size=batch_size)\n",
    "\n",
    "# Create testing dataset\n",
    "test_dataset = data_gen_test.flow_from_directory(test_path,\n",
    "                                                 class_mode=\"categorical\",\n",
    "                                                 target_size=(img_height, img_width),\n",
    "                                                 batch_size=batch_size)\n"
   ]
  },
  {
   "cell_type": "markdown",
   "id": "6f01f7e8-cb2e-48ea-a67c-3a0e3aaf7e5b",
   "metadata": {},
   "source": [
    "## 03 MobileNetV3 model training"
   ]
  },
  {
   "cell_type": "markdown",
   "id": "0e71ae42-55fb-4513-8703-8d67a29b04ea",
   "metadata": {},
   "source": [
    "### Transfer learning"
   ]
  },
  {
   "cell_type": "code",
   "execution_count": null,
   "id": "74071099-f59a-44bb-ba2e-2b38f65134b3",
   "metadata": {},
   "outputs": [],
   "source": [
    "# import MobileNetV2 model form keras API\n",
    "# set input size of image of trianing is 128x128 (smallest size of MobileNetV2)\n",
    "# due to we want to use transfer learning process \n",
    "# we must add `include_top=False` because we wan to add our input data \n",
    "# we decide default weigh for mode\n",
    "mobv3_model = tf.keras.applications.MobileNetV3Large(input_shape=(128,128,3),\n",
    "                                                include_top=False, # Transfer learning\n",
    "                                                weights=\"imagenet\")"
   ]
  },
  {
   "cell_type": "code",
   "execution_count": null,
   "id": "8e74a3d7-14e0-4629-afe2-cc3d0eabafcf",
   "metadata": {},
   "outputs": [],
   "source": [
    "# model summary\n",
    "# Total params: 2,257,984\n",
    "# Trainable params: 2,223,872\n",
    "# Non-trainable params: 34,112\n",
    "mobv3_model.summary()"
   ]
  },
  {
   "cell_type": "code",
   "execution_count": null,
   "id": "0faa47e9-6286-4955-b638-1dc65422fe76",
   "metadata": {},
   "outputs": [],
   "source": [
    "# fix weights and bias \n",
    "# train specifically custom head\n",
    "mobv3_model.trainable=False"
   ]
  },
  {
   "cell_type": "markdown",
   "id": "2f7e1b47-ba47-4944-9f6a-bc5bd236ec03",
   "metadata": {},
   "source": [
    "### Add custom head and output layers"
   ]
  },
  {
   "cell_type": "code",
   "execution_count": null,
   "id": "cb7969f0-7c11-4db0-bb5b-95cd9f26641d",
   "metadata": {},
   "outputs": [],
   "source": [
    "# Create output layer \n",
    "# We have 4 classes in our output we decide using activation=\"softmax\" \n",
    "# for multi classification.\n",
    "# Before output layer we decide use GlobalAveragePooling2D as \n",
    "# one type of flatten layer.\n",
    "average_pooling_layer = tf.keras.layers.GlobalAveragePooling2D()(mobv3_model.output) # flatten\n",
    "prediction_layer = tf.keras.layers.Dense(units=4, activation=\"softmax\")(average_pooling_layer)\n",
    "\n",
    "# # Create output layer\n",
    "# average_pooling_layer = tf.keras.layers.GlobalAveragePooling2D()(mobv3_model.output)\n",
    "# prediction_layer = tf.keras.layers.Dense(units=4, activation=\"softmax\")(average_pooling_layer)\n"
   ]
  },
  {
   "cell_type": "code",
   "execution_count": null,
   "id": "b3ef08a2-bf17-4b4c-9331-2a4c314c9137",
   "metadata": {},
   "outputs": [],
   "source": [
    "# Add Input layer and output layer \n",
    "model = tf.keras.models.Model(inputs=mobv3_model.input, \n",
    "                                    outputs=prediction_layer)"
   ]
  },
  {
   "cell_type": "code",
   "execution_count": null,
   "id": "eb56818c-58be-46f7-9e32-7b009aef79fd",
   "metadata": {},
   "outputs": [],
   "source": [
    "# Total params: 2,263,108\n",
    "# Trainable params: 5,124 # add input layers and  output layers\n",
    "# Non-trainable params: 2,257,984 --> fix layers\n",
    "model.summary()"
   ]
  },
  {
   "cell_type": "code",
   "execution_count": null,
   "id": "39b40d79-1ce7-417c-a136-949f198e36ba",
   "metadata": {},
   "outputs": [],
   "source": [
    "# Compile the model         \n",
    "model.compile(loss=\"categorical_crossentropy\", \n",
    "              optimizer=tf.keras.optimizers.Adam(learning_rate=0.001),\n",
    "              metrics=['accuracy'])"
   ]
  },
  {
   "cell_type": "code",
   "execution_count": null,
   "id": "acaa2fe7-d92d-4f29-a487-01510735ab8b",
   "metadata": {},
   "outputs": [],
   "source": [
    "# Save checkpoints during training\n",
    "checkpoint_path = r'C:\\Users\\HP\\Desktop\\Data\\poultry_disease_detection_third_iteration\\models\\mobilenetv3\\mobilenetv3_cp\\cp.ckpt'\n",
    "checkpoint_dir = os.path.dirname(checkpoint_path)\n",
    "\n",
    "# Create a callback that saves the model's weights\n",
    "cp_callback = tf.keras.callbacks.ModelCheckpoint(filepath=checkpoint_path,\n",
    "                                                 save_weights_only=True,\n",
    "                                                 mode=\"max\",\n",
    "                                                 verbose=1,\n",
    "                                                 monitor=\"val_accuracy\")"
   ]
  },
  {
   "cell_type": "code",
   "execution_count": null,
   "id": "93cddd3e-61dc-455c-b408-75424bf50939",
   "metadata": {},
   "outputs": [],
   "source": [
    "# Training model\n",
    "# make sure you truely save checkpoint_path\n",
    "history = model.fit(train_dataset,\n",
    "          epochs=25,\n",
    "          validation_data=valid_dataset,\n",
    "          callbacks=[cp_callback])"
   ]
  },
  {
   "cell_type": "code",
   "execution_count": null,
   "id": "13fe1842-e569-48c7-94c1-efb687a8dabb",
   "metadata": {},
   "outputs": [],
   "source": [
    "# plot graph \n",
    "plot_graph(history)"
   ]
  },
  {
   "cell_type": "code",
   "execution_count": null,
   "id": "3475125d-4054-44dd-98c6-a99d47868602",
   "metadata": {},
   "outputs": [],
   "source": [
    "# save model\n",
    "model.save(r\"C:\\Users\\HP\\Desktop\\Data\\poultry_disease_detection_third_iteration\\models\\mobilenetv3\\mobilenetv3.h5\")"
   ]
  },
  {
   "cell_type": "code",
   "execution_count": null,
   "id": "733c843c-09f9-4650-81ba-9af50e1a9e82",
   "metadata": {},
   "outputs": [],
   "source": [
    "# convert the history.history dict to a pandas DataFrame:    \n",
    "hist_df = pd.DataFrame(history.history) \n",
    "# # save history to csv:  \n",
    "# hist_csv_file = r\"C:\\Users\\HP\\Desktop\\Data\\poultry_new\\model\\mobilenetV2\\history_mobilenetv2_tf.csv\"\n",
    "# with open(hist_csv_file, mode='w') as f:\n",
    "#     hist_df.to_csv(f)\n",
    "\n",
    "# Save history to CSV file\n",
    "hist_csv_file = r\"C:\\Users\\HP\\Desktop\\Data\\poultry_disease_detection_third_iteration\\models\\mobilenetv3\\history_mobilenetv3_tl.csv\"\n",
    "hist_df.to_csv(hist_csv_file, index=False)  # Set index=False to exclude the index column\n",
    "\n",
    "hist_df.head()"
   ]
  },
  {
   "cell_type": "markdown",
   "id": "34652bf5-6f8f-4c19-b3a1-482f93fc6128",
   "metadata": {},
   "source": [
    "### Fine Tuning"
   ]
  },
  {
   "cell_type": "code",
   "execution_count": null,
   "id": "5fb2381f-d1aa-4334-95b9-8e7a9e6edb14",
   "metadata": {},
   "outputs": [],
   "source": [
    "img_height = 128 # Set the height of the picture\n",
    "img_width = 128 # Set the width of the picture\n",
    "\n",
    "# load model\n",
    "mobv3_model = tf.keras.applications.MobileNetV3Large(input_shape=(img_height, img_width,3),\n",
    "                                              include_top=False, # Transfer learning\n",
    "                                              weights=\"imagenet\",\n",
    "                                              )  \n",
    "\n",
    "# Let's take a look to see how many layers are in the base model\n",
    "print(\"Number of layers in the base model: \", len(mobv3_model.layers))\n",
    "\n",
    "# Fine-tune from this layer onwards\n",
    "fine_tune_at = 100\n",
    "\n",
    "# Freeze all the layers before the `fine_tune_at` layer\n",
    "for layer in mobv3_model.layers[:fine_tune_at]:\n",
    "    layer.trainable = False\n",
    "\n",
    "# Make sure you have frozen the correct layers\n",
    "for i, layer in enumerate(mobv3_model.layers):\n",
    "    if i >= 95:\n",
    "        print(i, layer.name, layer.trainable)\n",
    "\n",
    "# Add input layers and output layers\n",
    "average_pooling_layer = tf.keras.layers.GlobalAveragePooling2D()(mobv3_model.output) # flatten\n",
    "prediction_layer = tf.keras.layers.Dense(units=4, activation=\"softmax\")(average_pooling_layer)\n",
    "fineture_model = tf.keras.models.Model(inputs=mobv3_model.input, \n",
    "                                     outputs=prediction_layer)\n",
    "\n",
    "# Compile the model         \n",
    "fineture_model.compile(loss=\"categorical_crossentropy\", \n",
    "                       optimizer = tf.keras.optimizers.Adam(learning_rate=0.001),\n",
    "                       metrics=['accuracy'])"
   ]
  },
  {
   "cell_type": "code",
   "execution_count": null,
   "id": "fa98dff6-f7fb-4b45-9002-5636f40a27eb",
   "metadata": {},
   "outputs": [],
   "source": [
    "# Save checkpoints during training\n",
    "# follow value of vaildation scorce \n",
    "checkpoint = tf.keras.callbacks.ModelCheckpoint(r'C:\\Users\\HP\\Desktop\\Data\\poultry_disease_detection_third_iteration\\models\\mobilenetv3\\ft_cp\\mobilenetv3_ft.h5', \n",
    "                             monitor= 'val_accuracy', \n",
    "                             mode= 'max', \n",
    "                             save_best_only = True, \n",
    "                             verbose= 1)"
   ]
  },
  {
   "cell_type": "code",
   "execution_count": null,
   "id": "6e33706f-eaf2-479c-8e9d-4259af6e897f",
   "metadata": {},
   "outputs": [],
   "source": [
    "# Training model\n",
    "# make sure you truely save checkpoint_path\n",
    "history_ft = fineture_model.fit(train_dataset,  \n",
    "                             epochs=25, \n",
    "                             validation_data=valid_dataset, \n",
    "                             callbacks=[checkpoint]) # fine tune continue form transfer learning"
   ]
  },
  {
   "cell_type": "code",
   "execution_count": null,
   "id": "88671029-a726-496c-b29e-584d8893d2b7",
   "metadata": {},
   "outputs": [],
   "source": [
    "# plot graph \n",
    "plot_graph(history_ft)\n"
   ]
  },
  {
   "cell_type": "code",
   "execution_count": null,
   "id": "cad2b442-571a-4634-af18-2176349c740d",
   "metadata": {},
   "outputs": [],
   "source": [
    "# save model after fine tuning\n",
    "fineture_model.save(r\"C:\\Users\\HP\\Desktop\\Data\\poultry_disease_detection_third_iteration\\models\\mobilenetv3\\mobilenetv3_ft.h5\")"
   ]
  },
  {
   "cell_type": "code",
   "execution_count": null,
   "id": "4acacbd7-41c5-4c73-bcd3-c468860f0f1e",
   "metadata": {},
   "outputs": [],
   "source": [
    "# convert the history.history dict to a pandas DataFrame:     \n",
    "hist_df = pd.DataFrame(history_ft.history) \n",
    "\n",
    "# # save to csv: \n",
    "# hist_csv_file = '../model/mobilenetV2/history_mobilenetv2_ft.csv'\n",
    "# with open(hist_csv_file, mode='w') as f:\n",
    "#     hist_df.to_csv(f)\n",
    "\n",
    "# Save history to CSV file\n",
    "hist_csv_file = r\"C:\\Users\\HP\\Desktop\\Data\\poultry_disease_detection_third_iteration\\models\\mobilenetv3\\history_mobilenetv3_ft.csv\"\n",
    "hist_df.to_csv(hist_csv_file, index=False)  # Set index=False to exclude the index column\n",
    "\n",
    "hist_df.head()"
   ]
  },
  {
   "cell_type": "code",
   "execution_count": null,
   "id": "4882a95c-3dfd-46aa-958a-48623d8a2cd9",
   "metadata": {},
   "outputs": [],
   "source": []
  },
  {
   "cell_type": "code",
   "execution_count": null,
   "id": "f042a538-3aa5-4a57-92c6-28c8785656e1",
   "metadata": {},
   "outputs": [],
   "source": []
  },
  {
   "cell_type": "code",
   "execution_count": null,
   "id": "bb40d5d0-cc4c-49a5-a835-927e9e00d10d",
   "metadata": {},
   "outputs": [],
   "source": []
  }
 ],
 "metadata": {
  "kernelspec": {
   "display_name": "Python 3 (ipykernel)",
   "language": "python",
   "name": "python3"
  },
  "language_info": {
   "codemirror_mode": {
    "name": "ipython",
    "version": 3
   },
   "file_extension": ".py",
   "mimetype": "text/x-python",
   "name": "python",
   "nbconvert_exporter": "python",
   "pygments_lexer": "ipython3",
   "version": "3.11.4"
  }
 },
 "nbformat": 4,
 "nbformat_minor": 5
}
